{
 "cells": [
  {
   "cell_type": "code",
   "execution_count": 4,
   "id": "cf05c608",
   "metadata": {},
   "outputs": [
    {
     "name": "stderr",
     "output_type": "stream",
     "text": [
      "/Users/zhangyusheng/code/robotarm/python-aravis-master/aravis.py:9: PyGIWarning: Aravis was imported without specifying a version first. Use gi.require_version('Aravis', '0.8') before import to ensure that the right version gets loaded.\n",
      "  from gi.repository import Aravis\n"
     ]
    }
   ],
   "source": [
    "import aravis\n",
    "# ids = aravis.get_device_ids() #List visible cameras\n",
    "# cam = aravis.Camera(ids[0]) #get the first camera\n",
    "# try:\n",
    "#     cam.start_acquisition_continuous(nb_buffers=2)\n",
    "#     frame = cam.pop_frame()# get next frame from camera\n",
    "#     print(\"Saving frame to \", \"myframe.npy\")\n",
    "#     np.save(path, frame)\n",
    "#     cam.stop_acquisition()\n",
    "# finally:\n",
    "#     cam.shutdown()\n"
   ]
  },
  {
   "cell_type": "code",
   "execution_count": null,
   "id": "366c2485",
   "metadata": {},
   "outputs": [],
   "source": [
    "import time\n",
    "import cv2\n",
    "from aravis import Camera\n"
   ]
  },
  {
   "cell_type": "code",
   "execution_count": null,
   "id": "0d084202",
   "metadata": {},
   "outputs": [],
   "source": [
    "camera_hostname = \"evacctv02\"\n",
    "camera_ip = \"144.32.152.10\"\n",
    "cam = Camera('S1188411')\n",
    "cam\n"
   ]
  },
  {
   "cell_type": "code",
   "execution_count": 22,
   "id": "74c33a33",
   "metadata": {},
   "outputs": [
    {
     "data": {
      "text/plain": [
       "[]"
      ]
     },
     "execution_count": 22,
     "metadata": {},
     "output_type": "execute_result"
    }
   ],
   "source": [
    "# import aravis\n",
    "# ids = aravis.get_device_ids() #List visible cameras\n",
    "# cam = aravis.Camera(ids[0]) #get the first camera\n",
    "# try:\n",
    "#     cam.start_acquisition_continuous(nb_buffers=2)\n",
    "#     frame = cam.pop_frame()# get next frame from camera\n",
    "#     print(\"Saving frame to \", \"myframe.npy\")\n",
    "#     np.save(path, frame)\n",
    "#     cam.stop_acquisition()\n",
    "# finally:\n",
    "#     cam.shutdown()"
   ]
  },
  {
   "cell_type": "code",
   "execution_count": null,
   "id": "dd489133",
   "metadata": {},
   "outputs": [],
   "source": []
  }
 ],
 "metadata": {
  "kernelspec": {
   "display_name": "Python 3 (ipykernel)",
   "language": "python",
   "name": "python3"
  },
  "language_info": {
   "codemirror_mode": {
    "name": "ipython",
    "version": 3
   },
   "file_extension": ".py",
   "mimetype": "text/x-python",
   "name": "python",
   "nbconvert_exporter": "python",
   "pygments_lexer": "ipython3",
   "version": "3.9.14"
  }
 },
 "nbformat": 4,
 "nbformat_minor": 5
}
