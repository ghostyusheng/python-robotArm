{
 "cells": [
  {
   "cell_type": "code",
   "execution_count": 1,
   "id": "7410165a",
   "metadata": {},
   "outputs": [],
   "source": [
    "from evasdk import Eva\n",
    "import math\n",
    "arm_hostname = \"evacunningyorkartistpt410\"\n",
    "arm_ip = \"144.32.152.2\"\n",
    "token = \"4b1c26278a566e0419165a3acd025dd83d32b160\"\n",
    "\n",
    "# arm_hostname = \"trendylimashifterpt410\"\n",
    "# arm_ip = \"144.32.152.105\"\n",
    "# token = \"1462980d67d58cb7eaabe8790d866609eb97fd2c\""
   ]
  },
  {
   "cell_type": "code",
   "execution_count": 4,
   "id": "89fe4cec",
   "metadata": {},
   "outputs": [],
   "source": [
    "def radiusToDegree(degree):\n",
    "    return degree*math.pi/180\n",
    "\n",
    "r = radiusToDegree\n",
    "def gopen():\n",
    "    with eva.lock():\n",
    "       eva.control_wait_for_ready()\n",
    "       eva.gpio_set('ee_d0', False)\n",
    "       eva.gpio_set('ee_d1', True)\n",
    "\n",
    "def gclose():\n",
    "    with eva.lock():\n",
    "       eva.control_wait_for_ready()\n",
    "       eva.gpio_set('ee_d0', True)\n",
    "       eva.gpio_set('ee_d1', False)"
   ]
  },
  {
   "cell_type": "code",
   "execution_count": 9,
   "id": "55d1d885",
   "metadata": {},
   "outputs": [],
   "source": [
    "eva = Eva(arm_ip, token)\n",
    "with eva.lock():\n",
    "    eva.control_wait_for_ready()\n",
    "#     eva.control_home()\n",
    "#     eva.control_go_to([0.251478677729542, -0.0263665816477460, -1.54573178495154, 0.0897441708676694, -1.54475497284378, 0])\n",
    "    eva.control_go_to([r(0), r(-20), -(r(90)+r(0)), 0, -(r(90)-r(20)), r(0)])\n",
    "#     eva.control_go_to([r(-55), r(-20), -(r(90)+r(0)), 0, -(r(90)-r(20)), r(0)])\n",
    "\n",
    "#     eva.control_go_to([r(-0), r(-80), -(r(90)-r(40)), r(90), -r(90), r(45)])\n",
    "    \n",
    "#     eva.control_go_to([r(-20), r(-83.5), -(r(90)-r(40)), r(70), -r(100), r(45)])\n",
    "\n",
    "#     eva.control_reset_errors()\n",
    "#     eva.control_go_to([r(-20), r(-20), -(r(90)+r(0)), 0, -(r(90)-r(20)), r(0)])\n",
    "\n",
    "\n",
    "#     eva.control_go_to([0.372045279654951, -1.05307510745008, -1.49844289054706, 0.0843684333201098, -0.437889688937804, \n",
    "#                        0.174532925199433])"
   ]
  },
  {
   "cell_type": "code",
   "execution_count": 8,
   "id": "d204b576",
   "metadata": {},
   "outputs": [],
   "source": [
    "gopen()"
   ]
  },
  {
   "cell_type": "code",
   "execution_count": 11,
   "id": "cc906481",
   "metadata": {},
   "outputs": [],
   "source": [
    "eva = Eva(arm_ip, token)\n",
    "with eva.lock():\n",
    "    eva.control_wait_for_ready()\n",
    "    #[r(0), r(-20), -(r(90)+r(0)), 0, -(r(90)-r(20)), r(0)]\n",
    "    eva.control_go_to([r(0), r(-35), -(r(90)+r(0)), 0, -(r(90)-r(36)), r(0)])\n",
    "#     eva.control_go_to([0.133351431206207, -0.322989392395508, -1.60391132302719, 0.0379251094651114, -1.20599599009718, 0])"
   ]
  },
  {
   "cell_type": "code",
   "execution_count": null,
   "id": "1f038821",
   "metadata": {},
   "outputs": [],
   "source": []
  },
  {
   "cell_type": "code",
   "execution_count": null,
   "id": "ec174b76",
   "metadata": {},
   "outputs": [],
   "source": []
  }
 ],
 "metadata": {
  "kernelspec": {
   "display_name": "Python 3 (ipykernel)",
   "language": "python",
   "name": "python3"
  },
  "language_info": {
   "codemirror_mode": {
    "name": "ipython",
    "version": 3
   },
   "file_extension": ".py",
   "mimetype": "text/x-python",
   "name": "python",
   "nbconvert_exporter": "python",
   "pygments_lexer": "ipython3",
   "version": "3.9.14"
  }
 },
 "nbformat": 4,
 "nbformat_minor": 5
}
